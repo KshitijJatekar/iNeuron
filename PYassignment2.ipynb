{
 "cells": [
  {
   "cell_type": "markdown",
   "metadata": {},
   "source": [
    "PYTHON ASSIGNMENT-2"
   ]
  },
  {
   "cell_type": "markdown",
   "metadata": {},
   "source": [
    "1. Create the below pattern using nested for loop in Python."
   ]
  },
  {
   "cell_type": "code",
   "execution_count": 16,
   "metadata": {},
   "outputs": [
    {
     "name": "stdout",
     "output_type": "stream",
     "text": [
      "*         \n",
      "* *       \n",
      "* * *     \n",
      "* * * *   \n",
      "* * * * * \n",
      "* * * * \n",
      "* * *   \n",
      "* *     \n",
      "*       \n"
     ]
    }
   ],
   "source": [
    "for i in range(1,6):\n",
    "    for j in range(1,6):\n",
    "        if j<=i:\n",
    "            print(\"*\",end=\" \")\n",
    "        else :\n",
    "            print(\" \",end=\" \")\n",
    "    print()\n",
    "for i in range(1,5):\n",
    "    for j in range(1,5):\n",
    "        if j<=5-i:\n",
    "            print(\"*\",end=\" \")\n",
    "        else :\n",
    "            print(\" \",end=\" \")\n",
    "    print()\n"
   ]
  },
  {
   "cell_type": "markdown",
   "metadata": {},
   "source": [
    "2. Write a Python program to reverse a word after accepting the input from the user.\n",
    "Input word: ineuron\n",
    "Output: norueni"
   ]
  },
  {
   "cell_type": "code",
   "execution_count": 17,
   "metadata": {},
   "outputs": [
    {
     "name": "stdout",
     "output_type": "stream",
     "text": [
      "Enter word:ineuron\n",
      "norueni\n"
     ]
    }
   ],
   "source": [
    "word=str(input(\"Enter word:\"))\n",
    " \n",
    "print(word[::-1])"
   ]
  },
  {
   "cell_type": "code",
   "execution_count": null,
   "metadata": {},
   "outputs": [],
   "source": []
  }
 ],
 "metadata": {
  "kernelspec": {
   "display_name": "Python 3",
   "language": "python",
   "name": "python3"
  },
  "language_info": {
   "codemirror_mode": {
    "name": "ipython",
    "version": 3
   },
   "file_extension": ".py",
   "mimetype": "text/x-python",
   "name": "python",
   "nbconvert_exporter": "python",
   "pygments_lexer": "ipython3",
   "version": "3.7.4"
  }
 },
 "nbformat": 4,
 "nbformat_minor": 2
}
